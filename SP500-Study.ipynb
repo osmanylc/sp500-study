{
 "cells": [
  {
   "cell_type": "code",
   "execution_count": null,
   "metadata": {},
   "outputs": [],
   "source": [
    "from importlib import reload\n",
    "\n",
    "import pandas as pd\n",
    "import numpy as np\n",
    "from enum import Enum\n",
    "\n",
    "import helper\n",
    "from helper import Col\n",
    "\n",
    "%matplotlib notebook"
   ]
  },
  {
   "cell_type": "code",
   "execution_count": null,
   "metadata": {},
   "outputs": [],
   "source": [
    "sp500_df = helper.get_sp500_df('sp500_monthly.csv')\n",
    "sp500_df.head()"
   ]
  },
  {
   "cell_type": "markdown",
   "metadata": {},
   "source": [
    "## Expected Yearly Returns\n",
    "\n",
    "If I invest in S&P 500 today, what returns do I expect in 1 year?\n",
    "\n",
    "Let the `PRICE` at month $i$ be $P_i$. Let the `RETURNS` of month $i$ be $X_i = \\frac{P_{i+1}}{P_i}$.\n",
    "\n",
    "Assume:\n",
    "1. $X_1, \\ldots, X_n$ are $i.i.d.$ (note that this is a very strong assumption, it will be relaxed later).\n",
    "\n",
    "Now we have by the LLN:\n",
    "1. $\\overline{\\mu_X} = \\overline{X_n} \\to_{n \\to \\infty} \\mu_X$\n",
    "2. $\\overline{\\sigma^2_X} = \\overline{X^2_n} - \\overline{X_n}^2 \\to_{n \\to \\infty} \\sigma^2_X$\n",
    "\n",
    "\n",
    "So let's calculate the sample mean ($\\overline{\\mu_X}$) and the sample variance ($\\overline{\\sigma^2_X}$)."
   ]
  },
  {
   "cell_type": "code",
   "execution_count": null,
   "metadata": {},
   "outputs": [],
   "source": [
    "reload(helper)"
   ]
  },
  {
   "cell_type": "code",
   "execution_count": null,
   "metadata": {},
   "outputs": [],
   "source": [
    "returns_srs = helper.get_returns(sp500_df.PRICE)\n",
    "returns_srs.head()"
   ]
  },
  {
   "cell_type": "markdown",
   "metadata": {},
   "source": [
    "Let's see what the distribution of returns looks like."
   ]
  },
  {
   "cell_type": "code",
   "execution_count": null,
   "metadata": {},
   "outputs": [],
   "source": [
    "returns_srs.hist(bins=20)"
   ]
  },
  {
   "cell_type": "code",
   "execution_count": null,
   "metadata": {},
   "outputs": [],
   "source": [
    "sample_mean_returns = returns_srs.mean()\n",
    "sample_mean_returns"
   ]
  },
  {
   "cell_type": "code",
   "execution_count": null,
   "metadata": {},
   "outputs": [],
   "source": [
    "sample_variance_returns = returns_srs.var()\n",
    "sample_variance_returns"
   ]
  },
  {
   "cell_type": "code",
   "execution_count": null,
   "metadata": {},
   "outputs": [],
   "source": [
    "yearly_mean_returns = sample_mean_returns**12\n",
    "yearly_mean_returns"
   ]
  },
  {
   "cell_type": "markdown",
   "metadata": {},
   "source": [
    "The variable $y =$ `yearly_mean_returns` answers the question: If I invest $P$ dollars today in the S&P 500, how much do I expect to have in a year?. Answer : $P \\times y$."
   ]
  },
  {
   "cell_type": "markdown",
   "metadata": {},
   "source": [
    "Now because it is not easy to calculate $\\mathrm{Var}[X_1 \\times \\ldots X_{12}]$, let's transition to a new model of interpreting the returns. \n",
    "\n",
    "Let's assume that the price at month $i$, $P_i$ is the result of a continuously compounding rate. Let's say that this rate is constant over each month, but that it can change over each month. To put this more precisely:\n",
    "\n",
    "- Let $Y_i$ be the rate of returns over month $i$. \n",
    "- Let $P_i$ be the price at the beggining of month $i$.\n",
    "- This implies that $P_i = P_1 \\exp(Y_1) \\times \\ldots \\times \\exp(Y_{i-1}) = P_1 \\exp(Y_1 + \\ldots + Y_{i-1})$.\n",
    "- This implies that $Y_i = \\log(\\frac{P_{i+1}}{P_i}) = \\log P_{i+1} - \\log P_i$.\n",
    "\n",
    "$Y_i$ is the rate of returns during month $i$ if the returns are continuously compounding. Let's call it the \"log returns\" for short. This should make sense by looking at the last bullet point above, since $Y_i$ is just the $\\log$ of the returns as we had previously defined them. "
   ]
  },
  {
   "cell_type": "code",
   "execution_count": null,
   "metadata": {},
   "outputs": [],
   "source": [
    "reload(helper)"
   ]
  },
  {
   "cell_type": "code",
   "execution_count": null,
   "metadata": {},
   "outputs": [],
   "source": [
    "log_returns_srs = helper.get_log_returns(sp500_df.PRICE)\n",
    "log_returns_srs.head()"
   ]
  },
  {
   "cell_type": "code",
   "execution_count": null,
   "metadata": {},
   "outputs": [],
   "source": [
    "sample_mean_log_returns = log_returns_srs.mean()\n",
    "sample_mean_log_returns"
   ]
  },
  {
   "cell_type": "code",
   "execution_count": null,
   "metadata": {},
   "outputs": [],
   "source": [
    "sample_variance_log_returns = log_returns_srs.var()\n",
    "sample_variance_log_returns"
   ]
  },
  {
   "cell_type": "markdown",
   "metadata": {},
   "source": [
    "Now we can calculate the variance for our yearly returns, since the rate of returns for the whole year will simply be $Y_1 + \\ldots + Y_{12}$.\n",
    "\n",
    "Since we assumed that the $Y_i$'s are $i.i.d.$, then $\\mathrm{Var}[Y_1 + \\ldots + Y_{12}] = \\mathrm{Var}[Y_1] + \\ldots + \\mathrm{Var}[Y_{12}] = 12 \\times Var[Y_1] \\approx 12 \\times \\overline{\\sigma_Y^2}$"
   ]
  },
  {
   "cell_type": "code",
   "execution_count": null,
   "metadata": {},
   "outputs": [],
   "source": []
  }
 ],
 "metadata": {
  "kernelspec": {
   "display_name": "Python 3",
   "language": "python",
   "name": "python3"
  },
  "language_info": {
   "codemirror_mode": {
    "name": "ipython",
    "version": 3
   },
   "file_extension": ".py",
   "mimetype": "text/x-python",
   "name": "python",
   "nbconvert_exporter": "python",
   "pygments_lexer": "ipython3",
   "version": "3.6.5"
  }
 },
 "nbformat": 4,
 "nbformat_minor": 2
}

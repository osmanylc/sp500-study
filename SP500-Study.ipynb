{
 "cells": [
  {
   "cell_type": "code",
   "execution_count": null,
   "metadata": {},
   "outputs": [],
   "source": [
    "import pandas as pd\n",
    "import numpy as np\n",
    "from enum import Enum\n",
    "\n",
    "%matplotlib notebook"
   ]
  },
  {
   "cell_type": "code",
   "execution_count": null,
   "metadata": {},
   "outputs": [],
   "source": [
    "class Col(Enum):\n",
    "    PRICE = 1\n",
    "    DATE = 2\n",
    "    DIVIDEND = 3\n",
    "    EARNINGS = 4\n",
    "    LOG_RETURNS = 5"
   ]
  },
  {
   "cell_type": "code",
   "execution_count": null,
   "metadata": {},
   "outputs": [],
   "source": [
    "def get_sp500_df(filename):\n",
    "    sp500_df = (pd\n",
    "                .read_csv(filename)\n",
    "                .rename(columns={'Date': Col.DATE.name,\n",
    "                                 'SP500': Col.PRICE.name,\n",
    "                                 'Dividend': Col.DIVIDEND.name,\n",
    "                                 'Earnings': Col.EARNINGS.name})\n",
    "                [[col.name for col in Col]]\n",
    "                .set_index(Col.DATE.name))\n",
    "    sp500_df.index = pd.to_datetime(sp500_df.index)\n",
    "    \n",
    "    return sp500_df"
   ]
  },
  {
   "cell_type": "code",
   "execution_count": null,
   "metadata": {},
   "outputs": [],
   "source": [
    "def get_log_returns(prices_srs):\n",
    "    log_prices_srs = np.log(prices_srs)\n",
    "    log_returns_srs = log_prices_srs.diff().rename(Col.LOG_RETURNS.name)\n",
    "    \n",
    "    return log_returns_srs"
   ]
  },
  {
   "cell_type": "code",
   "execution_count": null,
   "metadata": {},
   "outputs": [],
   "source": [
    "sp500_df = get_sp500_df('sp500_monthly.csv')\n",
    "sp500_df.head()"
   ]
  },
  {
   "cell_type": "code",
   "execution_count": null,
   "metadata": {},
   "outputs": [],
   "source": [
    "get_log_returns(sp500_df[Col.PRICE.name]).plot()"
   ]
  },
  {
   "cell_type": "code",
   "execution_count": null,
   "metadata": {},
   "outputs": [],
   "source": []
  }
 ],
 "metadata": {
  "kernelspec": {
   "display_name": "Python 3",
   "language": "python",
   "name": "python3"
  },
  "language_info": {
   "codemirror_mode": {
    "name": "ipython",
    "version": 3
   },
   "file_extension": ".py",
   "mimetype": "text/x-python",
   "name": "python",
   "nbconvert_exporter": "python",
   "pygments_lexer": "ipython3",
   "version": "3.6.5"
  }
 },
 "nbformat": 4,
 "nbformat_minor": 2
}
